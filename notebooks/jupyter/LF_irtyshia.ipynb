{
 "cells": [
  {
   "cell_type": "code",
   "execution_count": 1,
   "metadata": {},
   "outputs": [
    {
     "name": "stderr",
     "output_type": "stream",
     "text": [
      "No handles with labels found to put in legend.\n"
     ]
    },
    {
     "name": "stdout",
     "output_type": "stream",
     "text": [
      "0.0\n"
     ]
    },
    {
     "data": {
      "text/plain": [
       "<Figure size 1000x800 with 1 Axes>"
      ]
     },
     "metadata": {},
     "output_type": "display_data"
    }
   ],
   "source": [
    "import glob\n",
    "import sys\n",
    "import numpy as np\n",
    "import operator\n",
    "from scipy import optimize\n",
    "from scipy import stats\n",
    "from scipy.ndimage import gaussian_filter\n",
    "import math\n",
    "from scipy.interpolate import RegularGridInterpolator\n",
    "\n",
    "import matplotlib\n",
    "import matplotlib.pyplot as plt\n",
    "from matplotlib import rc\n",
    "\n",
    "# matplotlib.rcParams.update({'font.size': 22})\n",
    "muavg = [0 for n in range(32761)]\n",
    "muavgsq= [0 for n in range(32761)]\n",
    "\n",
    "counts=np.zeros([40,999])\n",
    "bins=np.zeros([40,1000])\n",
    "\n",
    "\n",
    "# print(mu)\n",
    "run_num=40\n",
    "n_bins = np.linspace(1, 100, num=1000)\n",
    "j=0\n",
    "fig, ax = plt.subplots(figsize=(10, 8))\n",
    "for filename in glob.glob('mag*.dat'):\n",
    "    \n",
    "#     print(j)\n",
    "    mag= np.genfromtxt(filename, dtype=(\n",
    "        {'names': ['iz','z','ix', 'iy','im' ,'xs','ys','mag','vol','magpervol'], \n",
    "         'formats': ['f8','f8','f8','f8','f8', 'f8', 'f8','f8', 'f8', 'f8']}))\n",
    "#     nparray=mag['mag']\n",
    "#     nparray[nparray == 0] = np.nan\n",
    "    \n",
    "    mag['mag'][0]=1\n",
    "    nparray=mag['mag']\n",
    "    muavg=muavg+nparray\n",
    "    muavgsq=muavgsq+nparray*nparray\n",
    "    nparray[nparray == 0] = np.nan\n",
    "    m=2.5*np.log10(nparray)\n",
    "    \n",
    "    \n",
    "    \n",
    "#     print(len(m))\n",
    "    \n",
    "    \n",
    "    \n",
    "    \n",
    "    counts[j], bins[j], what=ax.hist(nparray, n_bins, density=True, histtype='step',cumulative=False,linewidth=2,alpha=0.1)\n",
    "    j=j+1\n",
    "\n",
    "muavg[muavg == 0] = np.nan\n",
    "muavgsq[muavgsq == 0] = np.nan\n",
    "muavg=abs(2.5*np.log10(muavg/run_num))\n",
    "muavgsq=2.5*np.log10(muavgsq/run_num)\n",
    "\n",
    "# for i in range(len(muavg)):\n",
    "#         if muavg[i]==0 :\n",
    "#             print(i)\n",
    "\n",
    "# ax.hist(muavgsum, n_bins, density=True, histtype='step',cumulative=-1,linewidth=2,label='Plummers Averaged')\n",
    "# ax.hist(muavg, n_bins, density=True, histtype='step',cumulative=-1,linewidth=2,label='Grale Runs Averaged')\n",
    "# ax.plot([4,5.25],[0.09,0.009],color=\"LightGray\")\n",
    "# print(muavgsq)\n",
    "print(min(muavg))\n",
    "# plt.grid(True)\n",
    "plt.axis()\n",
    "ax.set_title('z=3 single plane')\n",
    "ax.set_xlabel('Magnitude')\n",
    "# plt.xscale('log')\n",
    "# ax2.set_title('IrtyshII')\n",
    "# ax2.set_xlabel('Fractional Mass Dispersion')\n",
    "ax.legend(loc='upper right')\n",
    "plt.show()\n",
    "fig.savefig('z9_ind_runs.png', dpi=300)"
   ]
  },
  {
   "cell_type": "code",
   "execution_count": 2,
   "metadata": {},
   "outputs": [
    {
     "name": "stdout",
     "output_type": "stream",
     "text": [
      "32761\n",
      "32761\n"
     ]
    }
   ],
   "source": [
    "print(len(muavg))\n",
    "print(sum(~np.isnan(muavg)))"
   ]
  },
  {
   "cell_type": "code",
   "execution_count": 3,
   "metadata": {},
   "outputs": [],
   "source": [
    "def phiL(M):\n",
    "    return 0.4*math.log(10)*phistar*10**(-0.4*(M-Mstar)*(alpha+1))*math.exp(-10**(-0.4*(M-Mstar)))"
   ]
  },
  {
   "cell_type": "code",
   "execution_count": 4,
   "metadata": {},
   "outputs": [
    {
     "data": {
      "text/plain": [
       "[-24, -14, 1e-07, 0.1]"
      ]
     },
     "execution_count": 4,
     "metadata": {},
     "output_type": "execute_result"
    },
    {
     "data": {
      "image/png": "[encoded data removed]",
      "text/plain": [
       "<Figure size 432x288 with 1 Axes>"
      ]
     },
     "metadata": {
      "needs_background": "light"
     },
     "output_type": "display_data"
    }
   ],
   "source": [
    "M = np.linspace(-24, -14, num=100)\n",
    "import math\n",
    "phistar=10**(-3.78)\n",
    "Mstar=-20.89\n",
    "alpha=-2.15\n",
    "x=np.zeros(len(M))\n",
    "for i in range(len(M)): \n",
    "    x[i]=phiL(M[i])\n",
    "plt.plot(M,x,'r--')\n",
    "plt.yscale('log')\n",
    "plt.axis([-24,-14,10**(-7),0.1])"
   ]
  },
  {
   "cell_type": "code",
   "execution_count": 5,
   "metadata": {},
   "outputs": [],
   "source": [
    "N=len(counts[1])"
   ]
  },
  {
   "cell_type": "code",
   "execution_count": 22,
   "metadata": {},
   "outputs": [
    {
     "data": {
      "image/png": "[encoded data removed]",
      "text/plain": [
       "<Figure size 432x288 with 1 Axes>"
      ]
     },
     "metadata": {
      "needs_background": "light"
     },
     "output_type": "display_data"
    }
   ],
   "source": [
    "\n",
    "fig, ax = plt.subplots()\n",
    "\n",
    "phi=np.zeros([40,len(M)])\n",
    "for i in range(40):\n",
    "    for j in range(len(M)):\n",
    "        for k in range(N):\n",
    "            phi[i,j]+=(1/bins[i,k+1])*phiL(M[j]+2.5*np.log10(bins[i,k+1]))*counts[i,k]/13\n",
    "    plt.plot(M,phi[i,:],alpha=0.1)\n",
    "plt.plot(M,x,'b--')\n",
    "plt.yscale('log')\n",
    "plt.axis([-24,-14,10**(-7),0.1])\n",
    "ax.set_title('Irtysh Ia | z=6.5')\n",
    "ax.set_xlabel('Magnitude')\n",
    "ax.set_ylabel('Luminosity function ($\\phi$)')\n",
    "plt.show()\n",
    "\n",
    "\n",
    "\n",
    "fig.savefig('LF_IrtyshIa.pdf', dpi=300, transparent=True, bbox_inches='tight')"
   ]
  },
  {
   "cell_type": "code",
   "execution_count": 10,
   "metadata": {},
   "outputs": [],
   "source": [
    "meancount=np.mean(phi,axis=0)\n",
    "meansqcount=np.mean(phi**2,axis=0)\n",
    "sd=np.sqrt(meansqcount-meancount**2)"
   ]
  },
  {
   "cell_type": "code",
   "execution_count": 18,
   "metadata": {},
   "outputs": [
    {
     "data": {
      "image/png": "[encoded data removed]",
      "text/plain": [
       "<Figure size 432x288 with 1 Axes>"
      ]
     },
     "metadata": {
      "needs_background": "light"
     },
     "output_type": "display_data"
    }
   ],
   "source": [
    "fig, ax = plt.subplots()\n",
    "\n",
    "plt.fill_between(M, meancount+sd, meancount-sd,alpha=1)\n",
    "plt.plot(M,x,'b--',linewidth=1)\n",
    "\n",
    "# plt.grid(True)\n",
    "plt.axis()\n",
    "plt.yscale('log')\n",
    "ax.set_title('z=3 single plane')\n",
    "ax.set_xlabel('Magnitude')\n",
    "# plt.xscale('log')\n",
    "# ax2.set_title('IrtyshII')\n",
    "# ax2.set_xlabel('Fractional Mass Dispersion')\n",
    "# ax.legend(loc='upper right')\n",
    "\n",
    "plt.axis([-24,-14,10**(-7),0.1])\n",
    "plt.show()\n",
    "\n",
    "fig.savefig('LF_IrtyshIa.png', dpi=300, transparent=True, bbox_inches='tight')"
   ]
  },
  {
   "cell_type": "code",
   "execution_count": 68,
   "metadata": {},
   "outputs": [
    {
     "data": {
      "text/plain": [
       "100"
      ]
     },
     "execution_count": 68,
     "metadata": {},
     "output_type": "execute_result"
    }
   ],
   "source": [
    "len(meancount)"
   ]
  },
  {
   "cell_type": "code",
   "execution_count": null,
   "metadata": {},
   "outputs": [],
   "source": []
  }
 ],
 "metadata": {
  "kernelspec": {
   "display_name": "Python 3",
   "language": "python",
   "name": "python3"
  },
  "language_info": {
   "codemirror_mode": {
    "name": "ipython",
    "version": 3
   },
   "file_extension": ".py",
   "mimetype": "text/x-python",
   "name": "python",
   "nbconvert_exporter": "python",
   "pygments_lexer": "ipython3",
   "version": "3.7.7"
  }
 },
 "nbformat": 4,
 "nbformat_minor": 2
}
