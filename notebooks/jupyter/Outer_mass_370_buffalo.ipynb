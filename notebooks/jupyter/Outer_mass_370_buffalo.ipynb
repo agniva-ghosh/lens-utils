{
 "cells": [
  {
   "cell_type": "code",
   "execution_count": 5,
   "metadata": {
    "colab": {
     "base_uri": "https://localhost:8080/",
     "height": 34
    },
    "colab_type": "code",
    "executionInfo": {
     "elapsed": 374,
     "status": "ok",
     "timestamp": 1590817712341,
     "user": {
      "displayName": "Agniva Ghosh",
      "photoUrl": "https://lh3.googleusercontent.com/a-/AOh14Ggj_O0nWj7RyLPCJRHt4mq9pJwy9b4YSh-YIAMq-SI=s64",
      "userId": "08244054952114929310"
     },
     "user_tz": 300
    },
    "id": "wIOaPx0NHviI",
    "outputId": "eecd9cd2-20a3-4efd-c020-15a5caf996ef"
   },
   "outputs": [
    {
     "name": "stdout",
     "output_type": "stream",
     "text": [
      "/content/drive/My Drive/Lensing/mag/A370sum\n"
     ]
    }
   ],
   "source": [
    "cd /content/drive/My Drive/Lensing/mag/A370sum"
   ]
  },
  {
   "cell_type": "code",
   "execution_count": null,
   "metadata": {
    "colab": {},
    "colab_type": "code",
    "id": "bdI8lXX6Hmqi"
   },
   "outputs": [],
   "source": [
    "import sys\n",
    "import numpy as np\n",
    "import operator\n",
    "from scipy import optimize\n",
    "\n",
    "plummers = np.genfromtxt('invX_plummers.dat', dtype=(\n",
    "    {'names': ['x', 'y', 'width', 'mass'], 'formats': ['f8', 'f8', 'f8', 'f8']}))\n",
    "\n",
    "plumno = np.genfromtxt('plum_no.dat', dtype=(\n",
    "    {'names': ['no'],'formats': ['i4']}))\n",
    "\n",
    "mult = np.genfromtxt('images_combined_mult.dat', dtype=(\n",
    "    {'names': ['no'],'formats': ['i4']}))\n",
    "\n",
    "image = np.genfromtxt('images_combined.out', dtype=(\n",
    "    {'names': ['tag', 'x', 'y', 'z'], 'formats': ['f8', 'f8', 'f8', 'f8']}))"
   ]
  },
  {
   "cell_type": "code",
   "execution_count": null,
   "metadata": {
    "colab": {},
    "colab_type": "code",
    "id": "pwtbXF1PHmqn"
   },
   "outputs": [],
   "source": [
    "m= [0 for n in range(41)]\n",
    "mass=np.zeros((40,2),dtype=(int,float))\n",
    "\n",
    "m[0]=0\n",
    "for i in range(40):\n",
    "    m[i+1]=plumno['no'][i-1]+m[i]\n",
    "\n",
    "    for j in range(m[i],m[i+1]):\n",
    "        mass[i,0]=i+1\n",
    "#         if plummers['y'][j]<-50 or plummers['y'][j]>50:\n",
    "#         print(m[i],m[i+1])\n",
    "        mass[i,1]+=plummers['mass'][j]\n",
    "# mass=list(enumerate(mass))\n"
   ]
  },
  {
   "cell_type": "code",
   "execution_count": 16,
   "metadata": {
    "colab": {
     "base_uri": "https://localhost:8080/",
     "height": 697
    },
    "colab_type": "code",
    "executionInfo": {
     "elapsed": 352,
     "status": "ok",
     "timestamp": 1590817914539,
     "user": {
      "displayName": "Agniva Ghosh",
      "photoUrl": "https://lh3.googleusercontent.com/a-/AOh14Ggj_O0nWj7RyLPCJRHt4mq9pJwy9b4YSh-YIAMq-SI=s64",
      "userId": "08244054952114929310"
     },
     "user_tz": 300
    },
    "id": "-9L-DgEVHmqp",
    "outputId": "e45ad6fb-21e7-41f0-88f0-665a085568de"
   },
   "outputs": [
    {
     "data": {
      "text/plain": [
       "[array([              27, 1135561723989111]),\n",
       " array([               8, 1129211184104880]),\n",
       " array([               4, 1109305443295458]),\n",
       " array([              25, 1109284401502163]),\n",
       " array([              17, 1074852930722075]),\n",
       " array([             35, 989841285350807]),\n",
       " array([             38, 978473987674309]),\n",
       " array([             23, 977795497311743]),\n",
       " array([             21, 975675479832641]),\n",
       " array([             19, 970172317182467]),\n",
       " array([              7, 966404232224239]),\n",
       " array([             28, 959474021976966]),\n",
       " array([              1, 957604733828318]),\n",
       " array([             32, 955923607697456]),\n",
       " array([             12, 953091167755110]),\n",
       " array([             31, 952677713213312]),\n",
       " array([             40, 952207898531910]),\n",
       " array([             13, 951892712709338]),\n",
       " array([             24, 942084151257483]),\n",
       " array([             14, 941652764327869]),\n",
       " array([             37, 941080451025738]),\n",
       " array([             20, 931706363537768]),\n",
       " array([             15, 931228167738356]),\n",
       " array([             39, 930629338911968]),\n",
       " array([             22, 928640926468029]),\n",
       " array([             36, 923249811569156]),\n",
       " array([             16, 919696038609226]),\n",
       " array([             11, 919086725830783]),\n",
       " array([              3, 914403334985245]),\n",
       " array([             34, 910896440651488]),\n",
       " array([              6, 909609951483578]),\n",
       " array([             29, 903419838294177]),\n",
       " array([              2, 899752600871952]),\n",
       " array([              9, 897001442676534]),\n",
       " array([             33, 890361223527865]),\n",
       " array([             26, 824633131796133]),\n",
       " array([             30, 823434773273847]),\n",
       " array([             18, 816527075064742]),\n",
       " array([             10, 798981808274160]),\n",
       " array([              5, 797647915554296])]"
      ]
     },
     "execution_count": 16,
     "metadata": {
      "tags": []
     },
     "output_type": "execute_result"
    }
   ],
   "source": [
    "from operator import itemgetter, attrgetter\n",
    "sorted(mass, key=itemgetter(1),reverse=True)\n"
   ]
  },
  {
   "cell_type": "code",
   "execution_count": null,
   "metadata": {
    "colab": {},
    "colab_type": "code",
    "id": "U48Zko4THmqt"
   },
   "outputs": [],
   "source": [
    "import pandas as pd"
   ]
  },
  {
   "cell_type": "code",
   "execution_count": 10,
   "metadata": {
    "colab": {
     "base_uri": "https://localhost:8080/",
     "height": 765
    },
    "colab_type": "code",
    "executionInfo": {
     "elapsed": 344,
     "status": "ok",
     "timestamp": 1590817742045,
     "user": {
      "displayName": "Agniva Ghosh",
      "photoUrl": "https://lh3.googleusercontent.com/a-/AOh14Ggj_O0nWj7RyLPCJRHt4mq9pJwy9b4YSh-YIAMq-SI=s64",
      "userId": "08244054952114929310"
     },
     "user_tz": 300
    },
    "id": "d64puTi1Hmqw",
    "outputId": "01d2a134-4576-45dd-c593-8792e157dd04"
   },
   "outputs": [
    {
     "name": "stdout",
     "output_type": "stream",
     "text": [
      "     0                 1\n",
      "26  27  1135561723989111\n",
      "7    8  1129211184104880\n",
      "3    4  1109305443295458\n",
      "24  25  1109284401502163\n",
      "16  17  1074852930722075\n",
      "34  35   989841285350807\n",
      "37  38   978473987674309\n",
      "22  23   977795497311743\n",
      "20  21   975675479832641\n",
      "18  19   970172317182467\n",
      "6    7   966404232224239\n",
      "27  28   959474021976966\n",
      "0    1   957604733828318\n",
      "31  32   955923607697456\n",
      "11  12   953091167755110\n",
      "30  31   952677713213312\n",
      "39  40   952207898531910\n",
      "12  13   951892712709338\n",
      "23  24   942084151257483\n",
      "13  14   941652764327869\n",
      "36  37   941080451025738\n",
      "19  20   931706363537768\n",
      "14  15   931228167738356\n",
      "38  39   930629338911968\n",
      "21  22   928640926468029\n",
      "35  36   923249811569156\n",
      "15  16   919696038609226\n",
      "10  11   919086725830783\n",
      "2    3   914403334985245\n",
      "33  34   910896440651488\n",
      "5    6   909609951483578\n",
      "28  29   903419838294177\n",
      "1    2   899752600871952\n",
      "8    9   897001442676534\n",
      "32  33   890361223527865\n",
      "25  26   824633131796133\n",
      "29  30   823434773273847\n",
      "17  18   816527075064742\n",
      "9   10   798981808274160\n",
      "4    5   797647915554296\n"
     ]
    },
    {
     "data": {
      "text/plain": [
       "0    int64\n",
       "1    int64\n",
       "dtype: object"
      ]
     },
     "execution_count": 10,
     "metadata": {
      "tags": []
     },
     "output_type": "execute_result"
    }
   ],
   "source": [
    "s=pd.DataFrame(mass[:,:])\n",
    "print(s.sort_values(by=1, ascending=False))\n",
    "s.dtypes"
   ]
  },
  {
   "cell_type": "code",
   "execution_count": 11,
   "metadata": {
    "colab": {
     "base_uri": "https://localhost:8080/",
     "height": 765
    },
    "colab_type": "code",
    "executionInfo": {
     "elapsed": 317,
     "status": "ok",
     "timestamp": 1590817745107,
     "user": {
      "displayName": "Agniva Ghosh",
      "photoUrl": "https://lh3.googleusercontent.com/a-/AOh14Ggj_O0nWj7RyLPCJRHt4mq9pJwy9b4YSh-YIAMq-SI=s64",
      "userId": "08244054952114929310"
     },
     "user_tz": 300
    },
    "id": "1ozDYPPpHmqz",
    "outputId": "eabb687a-f988-49f6-df7c-32afcf015522"
   },
   "outputs": [
    {
     "name": "stdout",
     "output_type": "stream",
     "text": [
      "     0                 1\n",
      "26  27  1135561723989111\n",
      "7    8  1129211184104880\n",
      "3    4  1109305443295458\n",
      "24  25  1109284401502163\n",
      "16  17  1074852930722075\n",
      "34  35   989841285350807\n",
      "37  38   978473987674309\n",
      "22  23   977795497311743\n",
      "20  21   975675479832641\n",
      "18  19   970172317182467\n",
      "6    7   966404232224239\n",
      "27  28   959474021976966\n",
      "0    1   957604733828318\n",
      "31  32   955923607697456\n",
      "11  12   953091167755110\n",
      "30  31   952677713213312\n",
      "39  40   952207898531910\n",
      "12  13   951892712709338\n",
      "23  24   942084151257483\n",
      "13  14   941652764327869\n",
      "36  37   941080451025738\n",
      "19  20   931706363537768\n",
      "14  15   931228167738356\n",
      "38  39   930629338911968\n",
      "21  22   928640926468029\n",
      "35  36   923249811569156\n",
      "15  16   919696038609226\n",
      "10  11   919086725830783\n",
      "2    3   914403334985245\n",
      "33  34   910896440651488\n",
      "5    6   909609951483578\n",
      "28  29   903419838294177\n",
      "1    2   899752600871952\n",
      "8    9   897001442676534\n",
      "32  33   890361223527865\n",
      "25  26   824633131796133\n",
      "29  30   823434773273847\n",
      "17  18   816527075064742\n",
      "9   10   798981808274160\n",
      "4    5   797647915554296\n"
     ]
    },
    {
     "data": {
      "text/plain": [
       "0    int64\n",
       "1    int64\n",
       "dtype: object"
      ]
     },
     "execution_count": 11,
     "metadata": {
      "tags": []
     },
     "output_type": "execute_result"
    }
   ],
   "source": [
    "s=pd.DataFrame(mass[:,:])\n",
    "print(s.sort_values(by=1, ascending=False))\n",
    "s.dtypes"
   ]
  },
  {
   "cell_type": "code",
   "execution_count": 12,
   "metadata": {
    "colab": {
     "base_uri": "https://localhost:8080/",
     "height": 51
    },
    "colab_type": "code",
    "executionInfo": {
     "elapsed": 422,
     "status": "ok",
     "timestamp": 1590817747352,
     "user": {
      "displayName": "Agniva Ghosh",
      "photoUrl": "https://lh3.googleusercontent.com/a-/AOh14Ggj_O0nWj7RyLPCJRHt4mq9pJwy9b4YSh-YIAMq-SI=s64",
      "userId": "08244054952114929310"
     },
     "user_tz": 300
    },
    "id": "0tfuQozRHmq2",
    "outputId": "b35911ba-0dfa-404b-fe76-219ea8c05ddc"
   },
   "outputs": [
    {
     "name": "stdout",
     "output_type": "stream",
     "text": [
      "[3 5 3 3 4 3 5 2 3 2 3 3 3 5 5 3 3 3 2 3 3 3 2 2 3 3 3 2 2 2 2 2 3 3 3 2 2\n",
      " 3 3]\n"
     ]
    }
   ],
   "source": [
    "print(mult['no'])"
   ]
  },
  {
   "cell_type": "code",
   "execution_count": 13,
   "metadata": {
    "colab": {
     "base_uri": "https://localhost:8080/",
     "height": 51
    },
    "colab_type": "code",
    "executionInfo": {
     "elapsed": 288,
     "status": "ok",
     "timestamp": 1590817748213,
     "user": {
      "displayName": "Agniva Ghosh",
      "photoUrl": "https://lh3.googleusercontent.com/a-/AOh14Ggj_O0nWj7RyLPCJRHt4mq9pJwy9b4YSh-YIAMq-SI=s64",
      "userId": "08244054952114929310"
     },
     "user_tz": 300
    },
    "id": "2g2ByfJBHmq5",
    "outputId": "c801c189-f78d-439e-e9d5-f54801899f8b"
   },
   "outputs": [
    {
     "name": "stdout",
     "output_type": "stream",
     "text": [
      "[19.16896761 19.16896761 19.16896761 ...  4.88116967  9.76233934\n",
      "  9.76233934]\n"
     ]
    }
   ],
   "source": [
    "px=plummers['x']\n",
    "py=plummers['y']\n",
    "pmass=plummers['mass']\n",
    "pw=plummers['width']\n",
    "print(pw)"
   ]
  },
  {
   "cell_type": "code",
   "execution_count": null,
   "metadata": {
    "colab": {},
    "colab_type": "code",
    "id": "voFsKFJCHmq8"
   },
   "outputs": [],
   "source": [
    "import seaborn as sns"
   ]
  },
  {
   "cell_type": "code",
   "execution_count": null,
   "metadata": {
    "colab": {},
    "colab_type": "code",
    "id": "4xoFmY9uHmq_"
   },
   "outputs": [],
   "source": []
  }
 ],
 "metadata": {
  "colab": {
   "collapsed_sections": [],
   "name": "Outer_mass.ipynb",
   "provenance": [],
   "toc_visible": true
  },
  "kernelspec": {
   "display_name": "Python 3",
   "language": "python",
   "name": "python3"
  },
  "language_info": {
   "codemirror_mode": {
    "name": "ipython",
    "version": 3
   },
   "file_extension": ".py",
   "mimetype": "text/x-python",
   "name": "python",
   "nbconvert_exporter": "python",
   "pygments_lexer": "ipython3",
   "version": "3.8.5"
  }
 },
 "nbformat": 4,
 "nbformat_minor": 4
}
