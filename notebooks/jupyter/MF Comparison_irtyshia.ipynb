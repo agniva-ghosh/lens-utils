{
 "cells": [
  {
   "cell_type": "markdown",
   "metadata": {},
   "source": [
    "## Magnitude Uncertainty for Irtysh Ic"
   ]
  },
  {
   "cell_type": "code",
   "execution_count": 91,
   "metadata": {},
   "outputs": [
    {
     "name": "stdout",
     "output_type": "stream",
     "text": [
      "09\r"
     ]
    },
    {
     "data": {
      "image/png": "[encoded data removed]",
      "text/plain": [
       "<Figure size 432x288 with 1 Axes>"
      ]
     },
     "metadata": {
      "needs_background": "light"
     },
     "output_type": "display_data"
    }
   ],
   "source": [
    "import glob\n",
    "import sys\n",
    "import numpy as np\n",
    "import operator\n",
    "from scipy import optimize\n",
    "from scipy import stats\n",
    "from scipy.ndimage import gaussian_filter\n",
    "import math\n",
    "from scipy.interpolate import RegularGridInterpolator\n",
    "\n",
    "import matplotlib\n",
    "import matplotlib.pyplot as plt\n",
    "from matplotlib import rc\n",
    "\n",
    "counts=np.zeros([40,999])\n",
    "bins=np.zeros([40,1000])\n",
    "\n",
    "run_num=40\n",
    "n_bins = np.linspace(1, 1000, num=1000)\n",
    "j=0\n",
    "fig, ax = plt.subplots()\n",
    "for filename in glob.glob('/Users/agnivaghosh/Downloads/Lensing/magnifications/data/IrtyshIc/range/mag*.dat'):\n",
    "    \n",
    "    print(j, end='\\r')\n",
    "    mag= np.genfromtxt(filename, dtype=(\n",
    "        {'names': ['iz','z','ix', 'iy','im' ,'xs','ys','mag','vol','magpervol'], \n",
    "         'formats': ['f8','f8','f8','f8','f8', 'f8', 'f8','f8', 'f8', 'f8']}))\n",
    "    mag['mag'][0]=1\n",
    "    mag[mag['xs'] > 9] = np.nan\n",
    "    mag[mag['xs'] < -9] = np.nan\n",
    "    mag[mag['ys'] > 9] = np.nan\n",
    "    mag[mag['ys'] < -9] = np.nan\n",
    "    nparray=mag['mag']\n",
    "\n",
    "    nparray[nparray == 0] = np.nan\n",
    "    m=nparray\n",
    "    counts[j], bins[j], what=ax.hist(m, n_bins, density=True, histtype='step',cumulative=-1,linewidth=2,alpha=0.1);\n",
    "    j=j+1\n",
    "# plt.axis([0, 8, 0.0001, 2])\n",
    "# plt.yscale('log')\n",
    "# plt.show()\n",
    "meancountIc=np.mean(counts,axis=0)\n",
    "meansqcountIc=np.mean(counts**2,axis=0)\n",
    "sdIc=np.sqrt(meansqcountIc-meancountIc**2)\n",
    "\n",
    "horzIc=np.delete(bins[0],len(bins)-1)\n",
    "\n",
    "pcounts=np.zeros([1,999])\n",
    "pbins=np.zeros([1,1000])\n",
    "\n",
    "j=0\n",
    "for filename in glob.glob('/Users/agnivaghosh/Downloads/Lensing/magnifications/data/IrtyshIc/bestfit/mag0.dat'):\n",
    "    \n",
    "    print(j, end='\\r')\n",
    "    mag= np.genfromtxt(filename, dtype=(\n",
    "        {'names': ['iz','z','ix', 'iy','im' ,'xs','ys','mag','vol','magpervol'], \n",
    "         'formats': ['f8','f8','f8','f8','f8', 'f8', 'f8','f8', 'f8', 'f8']}))\n",
    "    mag['mag'][0]=1\n",
    "    mag[mag['xs'] > 9] = np.nan\n",
    "    mag[mag['xs'] < -9] = np.nan\n",
    "    mag[mag['ys'] > 9] = np.nan\n",
    "    mag[mag['ys'] < -9] = np.nan\n",
    "    nparray=mag['mag']\n",
    "\n",
    "    nparray[nparray == 0] = np.nan\n",
    "    m=nparray\n",
    "    pcounts[j], pbins[j], what=ax.hist(m, n_bins, density=True, histtype='step',cumulative=-1,linewidth=2,alpha=0.1);\n",
    "    j=j+1\n",
    "\n",
    "countIc=pcounts[0]"
   ]
  },
  {
   "cell_type": "code",
   "execution_count": null,
   "metadata": {},
   "outputs": [],
   "source": []
  },
  {
   "cell_type": "markdown",
   "metadata": {},
   "source": [
    "## Magnitude Uncertainty for Irtysh IIc"
   ]
  },
  {
   "cell_type": "code",
   "execution_count": 92,
   "metadata": {},
   "outputs": [
    {
     "name": "stdout",
     "output_type": "stream",
     "text": [
      "0\r"
     ]
    },
    {
     "data": {
      "image/png": "[encoded data removed]",
      "text/plain": [
       "<Figure size 432x288 with 1 Axes>"
      ]
     },
     "metadata": {
      "needs_background": "light"
     },
     "output_type": "display_data"
    }
   ],
   "source": [
    "counts=np.zeros([40,999])\n",
    "bins=np.zeros([40,1000])\n",
    "\n",
    "run_num=40\n",
    "n_bins = np.linspace(1, 1000, num=1000)\n",
    "j=0\n",
    "fig, ax = plt.subplots()\n",
    "for filename in glob.glob('/Users/agnivaghosh/Downloads/Lensing/magnifications/data/IrtyshIIc/range/mag*.dat'):\n",
    "    \n",
    "#     print(j)\n",
    "    mag= np.genfromtxt(filename, dtype=(\n",
    "        {'names': ['iz','z','ix', 'iy','im' ,'xs','ys','mag','vol','magpervol'], \n",
    "         'formats': ['f8','f8','f8','f8','f8', 'f8', 'f8','f8', 'f8', 'f8']}))\n",
    "    mag['mag'][0]=1\n",
    "    mag[mag['xs'] > 9] = np.nan\n",
    "    mag[mag['xs'] < -9] = np.nan\n",
    "    mag[mag['ys'] > 9] = np.nan\n",
    "    mag[mag['ys'] < -9] = np.nan\n",
    "    nparray=mag['mag']\n",
    "    nparray[nparray == 0] = np.nan\n",
    "    m=nparray\n",
    "    counts[j], bins[j], what=ax.hist(m, n_bins, density=True, histtype='step',cumulative=-1,linewidth=2,alpha=0.1)\n",
    "    j=j+1\n",
    "    \n",
    "meancountIIc=np.mean(counts,axis=0)\n",
    "meansqcountIIc=np.mean(counts**2,axis=0)\n",
    "sdIIc=np.sqrt(meansqcountIIc-meancountIIc**2)\n",
    "\n",
    "horzIIc=np.delete(bins[0],len(bins)-1)\n",
    "\n",
    "pcounts=np.zeros([1,999])\n",
    "pbins=np.zeros([1,1000])\n",
    "\n",
    "j=0\n",
    "for filename in glob.glob('/Users/agnivaghosh/Downloads/Lensing/magnifications/data/IrtyshIIc/bestfit/mag0.dat'):\n",
    "    \n",
    "    print(j, end='\\r')\n",
    "    mag= np.genfromtxt(filename, dtype=(\n",
    "        {'names': ['iz','z','ix', 'iy','im' ,'xs','ys','mag','vol','magpervol'], \n",
    "         'formats': ['f8','f8','f8','f8','f8', 'f8', 'f8','f8', 'f8', 'f8']}))\n",
    "    mag['mag'][0]=1\n",
    "    mag[mag['xs'] > 9] = np.nan\n",
    "    mag[mag['xs'] < -9] = np.nan\n",
    "    mag[mag['ys'] > 9] = np.nan\n",
    "    mag[mag['ys'] < -9] = np.nan\n",
    "    nparray=mag['mag']\n",
    "\n",
    "    nparray[nparray == 0] = np.nan\n",
    "    m=nparray\n",
    "    pcounts[j], pbins[j], what=ax.hist(m, n_bins, density=True, histtype='step',cumulative=-1,linewidth=2,alpha=0.1);\n",
    "    j=j+1\n",
    "\n",
    "countIIc=pcounts[0]\n",
    "\n",
    "\n",
    "# fig.savefig('z3_ind_runs.png', dpi=300)"
   ]
  },
  {
   "cell_type": "code",
   "execution_count": null,
   "metadata": {},
   "outputs": [],
   "source": []
  },
  {
   "cell_type": "markdown",
   "metadata": {},
   "source": [
    "## Magnitude Uncertainty for Irtysh IIIc"
   ]
  },
  {
   "cell_type": "code",
   "execution_count": 94,
   "metadata": {},
   "outputs": [
    {
     "name": "stdout",
     "output_type": "stream",
     "text": [
      "0\r"
     ]
    },
    {
     "data": {
      "image/png": "[encoded data removed]",
      "text/plain": [
       "<Figure size 432x288 with 1 Axes>"
      ]
     },
     "metadata": {
      "needs_background": "light"
     },
     "output_type": "display_data"
    }
   ],
   "source": [
    "counts=np.zeros([40,999])\n",
    "bins=np.zeros([40,1000])\n",
    "\n",
    "run_num=40\n",
    "n_bins = np.linspace(1, 1000, num=1000)\n",
    "j=0\n",
    "fig, ax = plt.subplots()\n",
    "for filename in glob.glob('/Users/agnivaghosh/Downloads/Lensing/magnifications/data/IrtyshIIIc/range/mag*.dat'):\n",
    "    \n",
    "#     print(j)\n",
    "    mag= np.genfromtxt(filename, dtype=(\n",
    "        {'names': ['iz','z','ix', 'iy','im' ,'xs','ys','mag','vol','magpervol'], \n",
    "         'formats': ['f8','f8','f8','f8','f8', 'f8', 'f8','f8', 'f8', 'f8']}))\n",
    "    mag['mag'][0]=1\n",
    "#     mag[mag['xs'] > 9] = np.nan\n",
    "#     mag[mag['xs'] < -9] = np.nan\n",
    "#     mag[mag['ys'] > 9] = np.nan\n",
    "#     mag[mag['ys'] < -9] = np.nan\n",
    "    nparray=mag['mag']\n",
    "    nparray[nparray == 0] = np.nan\n",
    "    m=nparray\n",
    "    counts[j], bins[j], what=ax.hist(m, n_bins, density=True, histtype='step',cumulative=-1,linewidth=2,alpha=0.1)\n",
    "    j=j+1\n",
    "    \n",
    "meancountIIIc=np.mean(counts,axis=0)\n",
    "meansqcountIIIc=np.mean(counts**2,axis=0)\n",
    "sdIIIc=np.sqrt(meansqcountIIIc-meancountIIIc**2)\n",
    "\n",
    "horzIIIc=np.delete(bins[0],len(bins)-1)\n",
    "\n",
    "pcounts=np.zeros([1,999])\n",
    "pbins=np.zeros([1,1000])\n",
    "\n",
    "j=0\n",
    "for filename in glob.glob('/Users/agnivaghosh/Downloads/Lensing/magnifications/data/IrtyshIIIc/bestfit/mag0.dat'):\n",
    "    \n",
    "    print(j, end='\\r')\n",
    "    mag= np.genfromtxt(filename, dtype=(\n",
    "        {'names': ['iz','z','ix', 'iy','im' ,'xs','ys','mag','vol','magpervol'], \n",
    "         'formats': ['f8','f8','f8','f8','f8', 'f8', 'f8','f8', 'f8', 'f8']}))\n",
    "    mag['mag'][0]=1\n",
    "#     mag[mag['xs'] > 9] = np.nan\n",
    "#     mag[mag['xs'] < -9] = np.nan\n",
    "#     mag[mag['ys'] > 9] = np.nan\n",
    "#     mag[mag['ys'] < -9] = np.nan\n",
    "    nparray=mag['mag']\n",
    "\n",
    "    nparray[nparray == 0] = np.nan\n",
    "    m=nparray\n",
    "    pcounts[j], pbins[j], what=ax.hist(m, n_bins, density=True, histtype='step',cumulative=-1,linewidth=2,alpha=0.1);\n",
    "    j=j+1\n",
    "\n",
    "countIIIc=pcounts[0]\n",
    "\n",
    "\n",
    "\n",
    "# fig.savefig('z3_ind_runs.png', dpi=300)"
   ]
  },
  {
   "cell_type": "code",
   "execution_count": null,
   "metadata": {},
   "outputs": [],
   "source": []
  },
  {
   "cell_type": "markdown",
   "metadata": {},
   "source": [
    "## A370 BUFFALO"
   ]
  },
  {
   "cell_type": "code",
   "execution_count": 93,
   "metadata": {},
   "outputs": [
    {
     "name": "stdout",
     "output_type": "stream",
     "text": [
      "0\r"
     ]
    },
    {
     "data": {
      "image/png": "[encoded data removed]",
      "text/plain": [
       "<Figure size 432x288 with 1 Axes>"
      ]
     },
     "metadata": {
      "needs_background": "light"
     },
     "output_type": "display_data"
    }
   ],
   "source": [
    "counts=np.zeros([40,999])\n",
    "bins=np.zeros([40,1000])\n",
    "\n",
    "run_num=40\n",
    "n_bins = np.linspace(1, 1000, num=1000)\n",
    "j=0\n",
    "fig, ax = plt.subplots()\n",
    "for filename in glob.glob('/Users/agnivaghosh/Downloads/Lensing/magnifications/data/A370/buffalo/range_z9/mag*.dat'):\n",
    "    \n",
    "#     print(j)\n",
    "    mag= np.genfromtxt(filename, dtype=(\n",
    "        {'names': ['iz','z','ix', 'iy','im' ,'xs','ys','mag','vol','magpervol'], \n",
    "         'formats': ['f8','f8','f8','f8','f8', 'f8', 'f8','f8', 'f8', 'f8']}))\n",
    "    mag['mag'][0]=1\n",
    "#     mag[mag['xs'] > 70] = np.nan\n",
    "#     mag[mag['xs'] < -50] = np.nan\n",
    "#     mag[mag['ys'] > 60] = np.nan\n",
    "#     mag[mag['ys'] < -60] = np.nan\n",
    "    mag[mag['xs'] > 40] = np.nan\n",
    "    mag[mag['xs'] < -60] = np.nan\n",
    "    mag[mag['ys'] > 60] = np.nan\n",
    "    mag[mag['ys'] < -40] = np.nan\n",
    "    nparray=mag['mag']\n",
    "    nparray[nparray == 0] = np.nan\n",
    "    m=nparray\n",
    "    counts[j], bins[j], what=ax.hist(m, n_bins, density=True, histtype='step',cumulative=-1,linewidth=2,alpha=0.1)\n",
    "    j=j+1\n",
    "    \n",
    "meancountbuffalo=np.mean(counts,axis=0)\n",
    "meansqcountbuffalo=np.mean(counts**2,axis=0)\n",
    "sdbuffalo=np.sqrt(meansqcountbuffalo-meancountbuffalo**2)\n",
    "\n",
    "horzbuffalo=np.delete(bins[0],len(bins)-1)\n",
    "\n",
    "pcounts=np.zeros([1,999])\n",
    "pbins=np.zeros([1,1000])\n",
    "\n",
    "j=0\n",
    "for filename in glob.glob('/Users/agnivaghosh/Downloads/Lensing/magnifications/data/A370/buffalo/bestfit_z9/mag0.dat'):\n",
    "    \n",
    "    print(j, end='\\r')\n",
    "    mag= np.genfromtxt(filename, dtype=(\n",
    "        {'names': ['iz','z','ix', 'iy','im' ,'xs','ys','mag','vol','magpervol'], \n",
    "         'formats': ['f8','f8','f8','f8','f8', 'f8', 'f8','f8', 'f8', 'f8']}))\n",
    "    mag['mag'][0]=1\n",
    "    mag[mag['xs'] > 40] = np.nan\n",
    "    mag[mag['xs'] < -60] = np.nan\n",
    "    mag[mag['ys'] > 60] = np.nan\n",
    "    mag[mag['ys'] < -40] = np.nan\n",
    "    nparray=mag['mag']\n",
    "\n",
    "    nparray[nparray == 0] = np.nan\n",
    "    m=nparray\n",
    "    pcounts[j], pbins[j], what=ax.hist(m, n_bins, density=True, histtype='step',cumulative=-1,linewidth=2,alpha=0.1);\n",
    "    j=j+1\n",
    "\n",
    "countbuffalo=pcounts[0]"
   ]
  },
  {
   "cell_type": "code",
   "execution_count": null,
   "metadata": {},
   "outputs": [],
   "source": []
  },
  {
   "cell_type": "markdown",
   "metadata": {},
   "source": [
    "## A370 HFF "
   ]
  },
  {
   "cell_type": "code",
   "execution_count": 95,
   "metadata": {},
   "outputs": [
    {
     "name": "stdout",
     "output_type": "stream",
     "text": [
      "0\r"
     ]
    },
    {
     "data": {
      "image/png": "[encoded data removed]",
      "text/plain": [
       "<Figure size 432x288 with 1 Axes>"
      ]
     },
     "metadata": {
      "needs_background": "light"
     },
     "output_type": "display_data"
    }
   ],
   "source": [
    "counts=np.zeros([40,999])\n",
    "bins=np.zeros([40,1000])\n",
    "\n",
    "run_num=40\n",
    "n_bins = np.linspace(1, 1000, num=1000)\n",
    "j=0\n",
    "fig, ax = plt.subplots()\n",
    "for filename in glob.glob('/Users/agnivaghosh/Downloads/Lensing/magnifications/data/A370/hff/range_z9/mag*.dat'):\n",
    "    \n",
    "#     print(j)\n",
    "    mag= np.genfromtxt(filename, dtype=(\n",
    "        {'names': ['iz','z','ix', 'iy','im' ,'xs','ys','mag','vol','magpervol'], \n",
    "         'formats': ['f8','f8','f8','f8','f8', 'f8', 'f8','f8', 'f8', 'f8']}))\n",
    "    mag['mag'][0]=1\n",
    "    mag[mag['xs'] > 40] = np.nan\n",
    "    mag[mag['xs'] < -60] = np.nan\n",
    "    mag[mag['ys'] > 60] = np.nan\n",
    "    mag[mag['ys'] < -40] = np.nan\n",
    "    nparray=mag['mag']\n",
    "    nparray[nparray == 0] = np.nan\n",
    "#     m=2.5*np.log10(nparray)\n",
    "    m=nparray\n",
    "    counts[j], bins[j], what=ax.hist(m, n_bins, density=True, histtype='step',cumulative=-1,linewidth=2,alpha=0.1)\n",
    "    j=j+1\n",
    "    \n",
    "meancounthff=np.mean(counts,axis=0)\n",
    "meansqcounthff=np.mean(counts**2,axis=0)\n",
    "sdhff=np.sqrt(meansqcounthff-meancounthff**2)\n",
    "\n",
    "horzhff=np.delete(bins[0],len(bins)-1)\n",
    "\n",
    "pcounts=np.zeros([1,999])\n",
    "pbins=np.zeros([1,1000])\n",
    "\n",
    "j=0\n",
    "for filename in glob.glob('/Users/agnivaghosh/Downloads/Lensing/magnifications/data/A370/hff/bestfit_z9/mag0.dat'):\n",
    "    \n",
    "    print(j, end='\\r')\n",
    "    mag= np.genfromtxt(filename, dtype=(\n",
    "        {'names': ['iz','z','ix', 'iy','im' ,'xs','ys','mag','vol','magpervol'], \n",
    "         'formats': ['f8','f8','f8','f8','f8', 'f8', 'f8','f8', 'f8', 'f8']}))\n",
    "    mag['mag'][0]=1\n",
    "    mag[mag['xs'] > 40] = np.nan\n",
    "    mag[mag['xs'] < -60] = np.nan\n",
    "    mag[mag['ys'] > 60] = np.nan\n",
    "    mag[mag['ys'] < -40] = np.nan\n",
    "    nparray=mag['mag']\n",
    "\n",
    "    nparray[nparray == 0] = np.nan\n",
    "#     m=2.5*np.log10(nparray)\n",
    "    m=nparray\n",
    "    pcounts[j], pbins[j], what=ax.hist(m, n_bins, density=True, histtype='step',cumulative=-1,linewidth=2,alpha=0.1);\n",
    "    j=j+1\n",
    "\n",
    "counthff=pcounts[0]"
   ]
  },
  {
   "cell_type": "code",
   "execution_count": null,
   "metadata": {},
   "outputs": [],
   "source": []
  },
  {
   "cell_type": "code",
   "execution_count": null,
   "metadata": {},
   "outputs": [],
   "source": []
  },
  {
   "cell_type": "code",
   "execution_count": null,
   "metadata": {},
   "outputs": [],
   "source": []
  },
  {
   "cell_type": "markdown",
   "metadata": {},
   "source": [
    "## Comparison between Magnitude Uncertainties"
   ]
  },
  {
   "cell_type": "code",
   "execution_count": 90,
   "metadata": {},
   "outputs": [
    {
     "data": {
      "image/png": "[encoded data removed]",
      "text/plain": [
       "<Figure size 432x360 with 1 Axes>"
      ]
     },
     "metadata": {
      "needs_background": "light"
     },
     "output_type": "display_data"
    }
   ],
   "source": [
    "import glob\n",
    "import sys\n",
    "import numpy as np\n",
    "import operator\n",
    "from scipy import optimize\n",
    "from scipy import stats\n",
    "from scipy.ndimage import gaussian_filter\n",
    "import math\n",
    "from scipy.interpolate import RegularGridInterpolator\n",
    "\n",
    "import matplotlib\n",
    "import matplotlib.pyplot as plt\n",
    "from matplotlib import rc\n",
    "\n",
    "rc('text', usetex=False)\n",
    "# rc('font', family='Computer Modern Sans serif')\n",
    "\n",
    "fig, ax = plt.subplots(figsize=(6,5))\n",
    "\n",
    "ax.plot([9,18],[0.008,0.002],color=\"LightGray\",label='$\\mu^{-2}$')\n",
    "ax.plot([30,60],[0.04,0.01],color=\"LightGray\")\n",
    "\n",
    "factor=1\n",
    "\n",
    "ax.fill_between(horzhff/factor, meancounthff+sdhff, meancounthff-sdhff,alpha=0.3)\n",
    "ax.plot(horzhff/factor,counthff,alpha=0.8,label='A370 HFF')\n",
    "\n",
    "ax.fill_between(horzbuffalo/factor, meancountbuffalo+sdbuffalo, meancountbuffalo-sdbuffalo,alpha=0.3)\n",
    "ax.plot(horzbuffalo/factor,countbuffalo,alpha=0.8,label='A370 BUFFALO')\n",
    "\n",
    "ax.fill_between(horzIc/factor, meancountIc+sdIc, meancountIc-sdIc,alpha=0.3)\n",
    "ax.plot(horzIc/factor,countIc,alpha=0.8,label='Irtysh Ic')\n",
    "\n",
    "ax.fill_between(horzIIc/factor, meancountIIc+sdIIc, meancountIIc-sdIIc,alpha=0.3)\n",
    "ax.plot(horzIIc/factor,countIIc,alpha=0.8,label='Irtysh IIc')\n",
    "\n",
    "ax.fill_between(horzIIIc/factor, (meancountIIIc+sdIIIc)*factor, (meancountIIIc-sdIIIc)*factor,alpha=0.3)\n",
    "ax.plot(horzIIIc/factor,countIIIc,alpha=0.8,label='Irtysh IIIc')\n",
    "\n",
    "\n",
    "ax.axis([1, 300, 0.001, 2])\n",
    "plt.yscale('log')\n",
    "plt.xscale('log')\n",
    "\n",
    "# plt.title('z=9.0 single plane')\n",
    "ax.set_xlabel(r'Magnifications, $\\mu$')\n",
    "ax.set_ylabel(r\"Probability of Magnification, $\\sigma_{sp}(\\mu,z_s)$\")\n",
    "ax.legend(loc='upper right',fontsize=10)\n",
    "# plt.rc('font', family='sans')\n",
    "plt.show()\n",
    "fig.savefig('/Users/agnivaghosh/Downloads/Lensing/magnifications/plots/MF_Irtysh.pdf', dpi=300, transparent=True, bbox_inches='tight')"
   ]
  },
  {
   "cell_type": "code",
   "execution_count": null,
   "metadata": {},
   "outputs": [],
   "source": []
  },
  {
   "cell_type": "code",
   "execution_count": null,
   "metadata": {},
   "outputs": [],
   "source": []
  },
  {
   "cell_type": "code",
   "execution_count": null,
   "metadata": {},
   "outputs": [],
   "source": []
  },
  {
   "cell_type": "code",
   "execution_count": null,
   "metadata": {},
   "outputs": [],
   "source": []
  },
  {
   "cell_type": "code",
   "execution_count": null,
   "metadata": {},
   "outputs": [],
   "source": []
  },
  {
   "cell_type": "code",
   "execution_count": null,
   "metadata": {},
   "outputs": [],
   "source": []
  }
 ],
 "metadata": {
  "kernelspec": {
   "display_name": "Python 3",
   "language": "python",
   "name": "python3"
  },
  "language_info": {
   "codemirror_mode": {
    "name": "ipython",
    "version": 3
   },
   "file_extension": ".py",
   "mimetype": "text/x-python",
   "name": "python",
   "nbconvert_exporter": "python",
   "pygments_lexer": "ipython3",
   "version": "3.8.5"
  }
 },
 "nbformat": 4,
 "nbformat_minor": 4
}
