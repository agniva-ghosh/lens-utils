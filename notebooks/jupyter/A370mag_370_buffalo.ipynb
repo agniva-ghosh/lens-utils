{
 "cells": [
  {
   "cell_type": "code",
   "execution_count": 83,
   "metadata": {},
   "outputs": [
    {
     "name": "stdout",
     "output_type": "stream",
     "text": [
      "[0.       0.       0.       ... 1.494085 1.496823 1.499945]\n"
     ]
    },
    {
     "data": {
      "image/png": "[encoded data removed]",
      "text/plain": [
       "<Figure size 720x576 with 1 Axes>"
      ]
     },
     "metadata": {
      "needs_background": "light"
     },
     "output_type": "display_data"
    }
   ],
   "source": [
    "\n",
    "import sys\n",
    "import numpy as np\n",
    "import operator\n",
    "from scipy import optimize\n",
    "from scipy import stats\n",
    "from scipy.ndimage import gaussian_filter\n",
    "import math\n",
    "from scipy.interpolate import RegularGridInterpolator\n",
    "\n",
    "import matplotlib\n",
    "import matplotlib.pyplot as plt\n",
    "from matplotlib import rc\n",
    "#rc('font',**{'family':'sans-serif','sans-serif':['Helvetica']})\n",
    "rc('font',**{'family':'serif','serif':['Times']})\n",
    "rc('text', usetex=True)\n",
    "mag1= np.genfromtxt('mag0.dat', dtype=(\n",
    "    {'names': ['iz','z','ix', 'iy','im' ,'xs','ys','mag','vol','magpervol'], 'formats': ['f8','f8','f8','f8','f8', 'f8', 'f8','f8', 'f8', 'f8']}))\n",
    "\n",
    "\n",
    "# mag2= np.genfromtxt('mag2.dat', dtype=(\n",
    "#     {'names': ['iz','z','ix', 'iy','im' ,'xs','ys','mag','vol','magpervol'], 'formats': ['f8','f8','f8','f8','f8', 'f8', 'f8','f8', 'f8', 'f8']}))\n",
    "# mag1= np.genfromtxt('mag1.dat', dtype=(\n",
    "#      {'names': ['ix', 'iy','im' ,'xs','ys','mag'], 'formats': ['f8', 'f8', 'f8','f8', 'f8', 'f8']}))\n",
    "# # mag2= np.genfromtxt('../mag/magII.dat', dtype=(\n",
    "# #     {'names': ['ix', 'iy','im' ,'xs','ys','mag'], 'formats': ['f8', 'f8', 'f8','f8', 'f8', 'f8']}))\n",
    "# mag0= np.genfromtxt('mag0.dat', dtype=(\n",
    "#     {'names': ['iz','z','ix', 'iy','im' ,'xs','ys','mag','vol','magpervol'], 'formats': ['f8','f8','f8','f8','f8', 'f8', 'f8','f8', 'f8', 'f8']}))\n",
    "\n",
    "\n",
    "# for N in {1..10}:\n",
    "#     mag${N}= np.genfromtxt('mag${N}.dat', dtype=(\n",
    "#     {'names': ['iz','z','ix', 'iy','im' ,'xs','ys','mag','vol','magpervol'], 'formats': ['f8','f8','f8','f8','f8', 'f8', 'f8','f8', 'f8', 'f8']})); \\\n",
    "# done\n",
    "\n",
    "# mag1i= np.genfromtxt('../mag/mass.dat', dtype=(\n",
    "#     {'names': ['is','im' ,'xi','yi','kappa','gamma','mag'], 'formats': ['f8', 'f8', 'f8','f8', 'f8', 'f8', 'f8']}))\n",
    "\n",
    "m1=np.array(mag1['mag'])\n",
    "\n",
    "# # N2=len(mag2['mag'])\n",
    "# # print(N2)\n",
    "\n",
    "\n",
    "# m1=2.5*np.log10(mag1['mag'])\n",
    "# # m1=mag1['mag']\n",
    "\n",
    "# m1=np.array(m1)\n",
    "# m1=np.trim_zeros(m1)\n",
    "print(m1)\n",
    "\n",
    "# m2=2.5*np.log10(mag2['mag'])\n",
    "# # m2=mag2['mag']\n",
    "# print(m2)\n",
    "\n",
    "# m0=2.5*np.log10(mag0['mag'])\n",
    "# # m2=mag2['mag']\n",
    "\n",
    "\n",
    "\n",
    "# m1i=2.5*np.log10(mag1i['mag'])\n",
    "\n",
    "\n",
    "\n",
    "matplotlib.rcParams.update({'font.size': 22})\n",
    "\n",
    "n_bins = 500\n",
    "fig, ax = plt.subplots(figsize=(10, 8))\n",
    "\n",
    "# plot the cumulative histogram\n",
    "ax.hist(m1, n_bins, density=True, histtype='step',cumulative=-1, label='Irtysh I',color='red',linewidth=2)\n",
    "# ax.hist(m2, n_bins, density=True, histtype='step',cumulative=-1, label='Irtysh II',color='blue',linewidth=2)\n",
    "# ax.hist(m0, n_bins, density=True, histtype='step',cumulative=-1, label='Empirical',color='Green')\n",
    "\n",
    "plt.grid(True)\n",
    "plt.axis([0, 1000, 0.1, 2])\n",
    "plt.yscale('log')\n",
    "ax.set_title('z=3 single plane')\n",
    "ax.set_xlabel('Magnitude')\n",
    "# plt.xscale('log')\n",
    "# ax2.set_title('IrtyshII')\n",
    "# ax2.set_xlabel('Fractional Mass Dispersion')\n",
    "ax.legend(loc='upper right')\n",
    "plt.show()\n",
    "fig.savefig('z6.5_single_plane.png', dpi=300)\n"
   ]
  },
  {
   "cell_type": "code",
   "execution_count": 38,
   "metadata": {},
   "outputs": [
    {
     "name": "stdout",
     "output_type": "stream",
     "text": [
      "1\n",
      "2\n"
     ]
    },
    {
     "name": "stderr",
     "output_type": "stream",
     "text": [
      "/Users/agnivaghosh/.local/lib/python3.7/site-packages/ipykernel_launcher.py:36: RuntimeWarning: divide by zero encountered in log10\n"
     ]
    },
    {
     "name": "stdout",
     "output_type": "stream",
     "text": [
      "3\n",
      "4\n",
      "5\n",
      "6\n",
      "7\n",
      "8\n",
      "9\n",
      "10\n",
      "11\n",
      "12\n",
      "13\n",
      "14\n",
      "15\n",
      "16\n",
      "17\n",
      "18\n",
      "19\n",
      "20\n",
      "21\n",
      "22\n",
      "23\n",
      "24\n",
      "25\n",
      "26\n",
      "27\n",
      "28\n",
      "29\n",
      "30\n",
      "31\n",
      "32\n",
      "33\n",
      "34\n",
      "35\n",
      "36\n",
      "37\n",
      "38\n",
      "39\n"
     ]
    },
    {
     "name": "stderr",
     "output_type": "stream",
     "text": [
      "No handles with labels found to put in legend.\n"
     ]
    },
    {
     "name": "stdout",
     "output_type": "stream",
     "text": [
      "40\n",
      "0.0368893\n"
     ]
    },
    {
     "data": {
      "image/png": "[encoded data removed]",
      "text/plain": [
       "<Figure size 720x576 with 1 Axes>"
      ]
     },
     "metadata": {
      "needs_background": "light"
     },
     "output_type": "display_data"
    }
   ],
   "source": [
    "import glob\n",
    "import sys\n",
    "import numpy as np\n",
    "import operator\n",
    "from scipy import optimize\n",
    "from scipy import stats\n",
    "from scipy.ndimage import gaussian_filter\n",
    "import math\n",
    "from scipy.interpolate import RegularGridInterpolator\n",
    "\n",
    "import matplotlib\n",
    "import matplotlib.pyplot as plt\n",
    "from matplotlib import rc\n",
    "\n",
    "# matplotlib.rcParams.update({'font.size': 22})\n",
    "muavg = [0 for n in range(25921)]\n",
    "muavgsq= [0 for n in range(25921)]\n",
    "\n",
    "\n",
    "# print(mu)\n",
    "run_num=40\n",
    "n_bins = 1000\n",
    "j=0\n",
    "fig, ax = plt.subplots(figsize=(10, 8))\n",
    "for filename in glob.glob('mag*.dat'):\n",
    "    j=j+1\n",
    "    print(j)\n",
    "    mag= np.genfromtxt(filename, dtype=(\n",
    "        {'names': ['iz','z','ix', 'iy','im' ,'xs','ys','mag','vol','magpervol'], \n",
    "         'formats': ['f8','f8','f8','f8','f8', 'f8', 'f8','f8', 'f8', 'f8']}))\n",
    "    \n",
    "#     for i in range(len(mag['mag'])):\n",
    "#         if mag['mag'][i]==0 :\n",
    "#             mag['mag'][i]=0.000000001\n",
    "    \n",
    "    m=2.5*np.log10(mag['mag'])\n",
    "#     print(len(m))\n",
    "    muavg=muavg+mag['mag']\n",
    "    muavgsq=muavgsq+mag['mag']*mag['mag']\n",
    "    \n",
    "    \n",
    "    \n",
    "#     ax.hist(m, n_bins, density=True, histtype='step',cumulative=-1,linewidth=2,alpha=0.6)\n",
    "\n",
    "\n",
    "muavg=muavg/run_num\n",
    "muavgsq=muavgsq/run_num\n",
    "for i in range(len(muavg)):\n",
    "        if muavg[i]==0 :\n",
    "            print(i)\n",
    "# ax.hist(muavgsq, n_bins, density=True, histtype='step',cumulative=-1,linewidth=2)\n",
    "# print(muavgsq)\n",
    "print(min(muavg))\n",
    "plt.grid(True)\n",
    "plt.axis([0, 10, 0.0001, 2])\n",
    "plt.yscale('log')\n",
    "ax.set_title('z=3 single plane')\n",
    "ax.set_xlabel('Magnitude')\n",
    "# plt.xscale('log')\n",
    "# ax2.set_title('IrtyshII')\n",
    "# ax2.set_xlabel('Fractional Mass Dispersion')\n",
    "ax.legend(loc='upper right')\n",
    "plt.show()\n",
    "fig.savefig('z6.5_ind_runs.png', dpi=300)"
   ]
  },
  {
   "cell_type": "code",
   "execution_count": 39,
   "metadata": {},
   "outputs": [],
   "source": [
    "muerr=(muavgsq-muavg*muavg)**0.5/muavg"
   ]
  },
  {
   "cell_type": "code",
   "execution_count": 40,
   "metadata": {},
   "outputs": [],
   "source": [
    "sample = open('errmu.dat', 'w') \n",
    "for i in range(len(muavg)):\n",
    "    print('%10.6lf\\t%10.6lf\\t%10.6lf\\t%10.6lf\\t%10.6lf'%(mag['xs'][i], mag['ys'][i], muavg[i], muavgsq[i], muerr[i]),file=sample)"
   ]
  },
  {
   "cell_type": "code",
   "execution_count": null,
   "metadata": {},
   "outputs": [],
   "source": []
  }
 ],
 "metadata": {
  "kernelspec": {
   "display_name": "Python 3",
   "language": "python",
   "name": "python3"
  },
  "language_info": {
   "codemirror_mode": {
    "name": "ipython",
    "version": 3
   },
   "file_extension": ".py",
   "mimetype": "text/x-python",
   "name": "python",
   "nbconvert_exporter": "python",
   "pygments_lexer": "ipython3",
   "version": "3.8.5"
  }
 },
 "nbformat": 4,
 "nbformat_minor": 4
}
