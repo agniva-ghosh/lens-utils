{
 "cells": [
  {
   "cell_type": "code",
   "execution_count": 3,
   "metadata": {},
   "outputs": [],
   "source": [
    "import glob\n",
    "import sys\n",
    "import numpy as np\n",
    "import operator\n",
    "from scipy import optimize\n",
    "from scipy import stats\n",
    "from scipy.ndimage import gaussian_filter\n",
    "import math\n",
    "from scipy.interpolate import RegularGridInterpolator\n",
    "import matplotlib\n",
    "import matplotlib.pyplot as plt\n",
    "from matplotlib import rc"
   ]
  },
  {
   "cell_type": "code",
   "execution_count": 151,
   "metadata": {},
   "outputs": [
    {
     "name": "stdout",
     "output_type": "stream",
     "text": [
      "39\r"
     ]
    },
    {
     "name": "stderr",
     "output_type": "stream",
     "text": [
      "No handles with labels found to put in legend.\n"
     ]
    },
    {
     "name": "stdout",
     "output_type": "stream",
     "text": [
      "0.00021772256446372018\n"
     ]
    },
    {
     "data": {
      "image/png": "[encoded data removed]",
      "text/plain": [
       "<Figure size 720x576 with 1 Axes>"
      ]
     },
     "metadata": {
      "needs_background": "light"
     },
     "output_type": "display_data"
    }
   ],
   "source": [
    "import glob\n",
    "import sys\n",
    "import numpy as np\n",
    "import operator\n",
    "from scipy import optimize\n",
    "from scipy import stats\n",
    "from scipy.ndimage import gaussian_filter\n",
    "import math\n",
    "from scipy.interpolate import RegularGridInterpolator\n",
    "\n",
    "import matplotlib\n",
    "import matplotlib.pyplot as plt\n",
    "from matplotlib import rc\n",
    "\n",
    "# matplotlib.rcParams.update({'font.size': 22})\n",
    "muavg = [0 for n in range(160000)]\n",
    "muavgsq= [0 for n in range(160000)]\n",
    "\n",
    "counts=np.zeros([40,999])\n",
    "bins=np.zeros([40,1000])\n",
    "area=np.zeros(40)\n",
    "\n",
    "# print(mu)\n",
    "run_num=40\n",
    "n_bins = np.linspace(1, 100, num=1000)\n",
    "j=0\n",
    "fig, ax = plt.subplots(figsize=(10, 8))\n",
    "for filename in glob.glob('/Users/agnivaghosh/Downloads/Lensing/magnifications/data/IrtyshIIIc/range/mag*.dat'):\n",
    "    muavg=0\n",
    "    print(j,end='\\r')\n",
    "    mag= np.genfromtxt(filename, dtype=(\n",
    "        {'names': ['iz','z','ix', 'iy','im' ,'xs','ys','mag','vol','magpervol'], \n",
    "         'formats': ['f8','f8','f8','f8','f8', 'f8', 'f8','f8', 'f8', 'f8']}))\n",
    "#     nparray=mag['mag']\n",
    "#     nparray[nparray == 0] = np.nan\n",
    "    \n",
    "    mag['mag'][0]=1\n",
    "    nparray=mag['mag']\n",
    "    muavg=muavg+nparray\n",
    "    muavgsq=muavgsq+nparray*nparray\n",
    "    nparray[nparray == 0] = np.nan\n",
    "\n",
    "#     m=2.5*np.log10(nparray)\n",
    "    area[j]=np.sum(muavg)*0.05*0.05*36/60/60\n",
    "#     k=0\n",
    "#     for i in range(len(nparray)):\n",
    "#         if nparray[i]>30:\n",
    "#             k+=1\n",
    "# #     counts, bins, what = ax.hist(m, n_bins, density=True, histtype='step',cumulative=-1,linewidth=2,alpha=0.8,label=filename)\n",
    "# #     print(bins[3000])\n",
    "#     counts[j]=k\n",
    "    \n",
    "    \n",
    "    counts[j], bins[j]=np.histogram(nparray,n_bins, density=True)\n",
    "#     print(len(m))\n",
    "    \n",
    "    \n",
    "    \n",
    "    \n",
    "#     counts[j], bins[j], what=ax.hist(nparray, n_bins, density=True, histtype='step',cumulative=False,linewidth=2,alpha=0.1)\n",
    "    j=j+1\n",
    "\n",
    "muavg[muavg == 0] = np.nan\n",
    "muavgsq[muavgsq == 0] = np.nan\n",
    "muavg=abs(2.5*np.log10(muavg/run_num))\n",
    "muavgsq=2.5*np.log10(muavgsq/run_num)\n",
    "\n",
    "\n",
    "# for i in range(len(muavg)):\n",
    "#         if muavg[i]==0 :\n",
    "#             print(i)\n",
    "\n",
    "# ax.hist(muavgsum, n_bins, density=True, histtype='step',cumulative=-1,linewidth=2,label='Plummers Averaged')\n",
    "# ax.hist(muavg, n_bins, density=True, histtype='step',cumulative=-1,linewidth=2,label='Grale Runs Averaged')\n",
    "# ax.plot([4,5.25],[0.09,0.009],color=\"LightGray\")\n",
    "# print(muavgsq)\n",
    "print(min(muavg))\n",
    "# plt.grid(True)\n",
    "plt.axis()\n",
    "ax.set_title('z=3 single plane')\n",
    "ax.set_xlabel('Magnitude')\n",
    "# plt.xscale('log')\n",
    "# ax2.set_title('IrtyshII')\n",
    "# ax2.set_xlabel('Fractional Mass Dispersion')\n",
    "ax.legend(loc='upper right')\n",
    "plt.show()\n",
    "# fig.savefig('z9_ind_runs.png', dpi=300)"
   ]
  },
  {
   "cell_type": "code",
   "execution_count": 72,
   "metadata": {},
   "outputs": [
    {
     "data": {
      "text/plain": [
       "-1.0"
      ]
     },
     "execution_count": 72,
     "metadata": {},
     "output_type": "execute_result"
    }
   ],
   "source": [
    "bins[1][0]-bins[1][1]"
   ]
  },
  {
   "cell_type": "code",
   "execution_count": 38,
   "metadata": {},
   "outputs": [
    {
     "name": "stdout",
     "output_type": "stream",
     "text": [
      "562276.519476\n",
      "160000\n",
      "160000\n"
     ]
    }
   ],
   "source": [
    "print(np.sum(nparray))\n",
    "print(len(mag['mag']))\n",
    "print(np.count_nonzero(~np.isnan(nparray)))"
   ]
  },
  {
   "cell_type": "code",
   "execution_count": 10,
   "metadata": {},
   "outputs": [],
   "source": [
    "def phiL(M):\n",
    "    return 0.4*math.log(10)*phistar*10**(-0.4*(M-Mstar)*(alpha+1))*math.exp(-10**(-0.4*(M-Mstar)))"
   ]
  },
  {
   "cell_type": "code",
   "execution_count": 124,
   "metadata": {},
   "outputs": [
    {
     "data": {
      "text/plain": [
       "(-24.0, -14.0, 1e-07, 0.1)"
      ]
     },
     "execution_count": 124,
     "metadata": {},
     "output_type": "execute_result"
    },
    {
     "data": {
      "image/png": "[encoded data removed]",
      "text/plain": [
       "<Figure size 432x288 with 1 Axes>"
      ]
     },
     "metadata": {
      "needs_background": "light"
     },
     "output_type": "display_data"
    }
   ],
   "source": [
    "M = np.linspace(-24, -14, num=100)\n",
    "import math\n",
    "phistar=10**(-3.88)\n",
    "Mstar=-20.35\n",
    "alpha=-1.98\n",
    "x=np.zeros(len(M))\n",
    "for i in range(len(M)): \n",
    "    x[i]=phiL(M[i])\n",
    "plt.plot(M,x,'r--')\n",
    "plt.yscale('log')\n",
    "plt.axis([-24,-14,10**(-7),0.1])"
   ]
  },
  {
   "cell_type": "code",
   "execution_count": 125,
   "metadata": {},
   "outputs": [],
   "source": [
    "N=len(counts[1])"
   ]
  },
  {
   "cell_type": "code",
   "execution_count": 142,
   "metadata": {},
   "outputs": [],
   "source": [
    "omega=np.zeros([40,len(M)])\n",
    "phi=np.zeros([40,len(M)])\n",
    "for i in range(40):\n",
    "    for j in range(len(M)):\n",
    "        for k in range(N):\n",
    "            phi[i,j]+=(1/bins[i,k+1])*phiL(M[j]+2.5*np.log10(bins[i,k+1]))*counts[i,k]*0.0990990990990992\n",
    "meancountIIIc=np.mean(phi,axis=0)\n",
    "meansqcountIIIc=np.mean(phi**2,axis=0)\n",
    "sdIIIc=np.sqrt(meansqcountIIIc-meancountIIIc**2)\n",
    "\n",
    "omega=phi\n",
    "\n",
    "phi=np.zeros([40,len(M)])\n",
    "for i in range(40):\n",
    "    for j in range(len(M)):\n",
    "        for k in range(N):\n",
    "            phi[i,j]+=(1/bins370[i,k+1])*phiL(M[j]+2.5*np.log10(bins370[i,k+1]))*counts370[i,k]*0.0990990990990992\n",
    "#     plt.plot(M,phi[i,:],alpha=0.05,color='tab:orange')\n",
    "    \n",
    "meancount370=np.mean(phi,axis=0)\n",
    "meansqcount370=np.mean(phi**2,axis=0)\n",
    "sd370=np.sqrt(meansqcount370-meancount370**2)\n",
    "\n",
    "omega+=phi\n",
    "\n",
    "phi=np.zeros([40,len(M)])\n",
    "for i in range(40):\n",
    "    for j in range(len(M)):\n",
    "        for k in range(N):\n",
    "            phi[i,j]+=(1/bins370hff[i,k+1])*phiL(M[j]+2.5*np.log10(bins370hff[i,k+1]))*counts370hff[i,k]*0.0990990990990992\n",
    "#     plt.plot(M,phi[i,:],alpha=0.05,color='tab:orange')\n",
    "    \n",
    "meancount370hff=np.mean(phi,axis=0)\n",
    "meansqcount370hff=np.mean(phi**2,axis=0)\n",
    "sd370hff=np.sqrt(meansqcount370hff-meancount370hff**2)\n",
    "\n",
    "omega+=phi\n",
    "\n"
   ]
  },
  {
   "cell_type": "code",
   "execution_count": 143,
   "metadata": {},
   "outputs": [],
   "source": [
    "mean=np.mean(omega,axis=0)\n",
    "meansq=np.mean(omega**2,axis=0)\n",
    "sd=np.sqrt(meansq-mean**2)"
   ]
  },
  {
   "cell_type": "code",
   "execution_count": 146,
   "metadata": {},
   "outputs": [
    {
     "data": {
      "image/png": "[encoded data removed]",
      "text/plain": [
       "<Figure size 432x360 with 1 Axes>"
      ]
     },
     "metadata": {
      "needs_background": "light"
     },
     "output_type": "display_data"
    }
   ],
   "source": [
    "fig, ax = plt.subplots(figsize=(6,5))\n",
    "factor=1\n",
    "\n",
    "\n",
    "# # plt.plot(M, meancount370hff+sd370hff,alpha=0.4,linewidth=1,color='tab:blue')\n",
    "# # plt.plot(M, meancount370hff-sd370hff,alpha=0.4,linewidth=1,color='tab:blue')\n",
    "plt.fill_between(M, meancount370hff+factor*sd370hff, meancount370hff-factor*sd370hff,alpha=0.4,color='tab:blue',label='A370 HFF')\n",
    "\n",
    "# plt.plot(M, meancount370+sd370,alpha=0.4,linewidth=1,color='tab:orange')\n",
    "# # plt.plot(M, meancount370-sd370,alpha=0.4,linewidth=1,color='tab:orange')\n",
    "plt.fill_between(M, meancount370+factor*sd370, meancount370-factor*sd370,alpha=0.4,color='tab:orange',label='A370 BUFFALO')\n",
    "\n",
    "\n",
    "# plt.plot(M, meancountIIIc+sdIIIc,alpha=0.4,linewidth=1,color='tab:purple')\n",
    "# plt.plot(M, meancountIIIc-sdIIIc,alpha=0.4,linewidth=1,color='tab:purple')\n",
    "plt.fill_between(M, (meancountIIIc+factor*sdIIIc), (meancountIIIc-factor*sdIIIc),alpha=0.4,color='tab:purple',label='Irtysh IIIc')\n",
    "\n",
    "\n",
    "# plt.fill_between(M, (mean+factor*sd)/3, (mean-factor*sd)/3,alpha=0.4,color='tab:red')\n",
    "\n",
    "\n",
    "    \n",
    "    \n",
    "plt.plot(M,x,'--',c='black',linewidth=1,label='Unlensed LF')\n",
    "plt.yscale('log')\n",
    "plt.axis([-24,-14,10**(-7),0.1])\n",
    "# ax.set_title('Irtysh IIIc | z=9.0')\n",
    "ax.set_xlabel('Magnitude')\n",
    "ax.set_ylabel('Luminosity function ($\\phi$)')\n",
    "ax.legend(loc='upper left')\n",
    "\n",
    "plt.show()\n",
    "\n",
    "\n",
    "\n",
    "# fig.savefig('/Users/agnivaghosh/Downloads/Lensing/magnifications/plots/LF.pdf', dpi=300, transparent=True, bbox_inches='tight')"
   ]
  },
  {
   "cell_type": "code",
   "execution_count": 148,
   "metadata": {},
   "outputs": [
    {
     "data": {
      "text/plain": [
       "-22.484848484848484"
      ]
     },
     "execution_count": 148,
     "metadata": {},
     "output_type": "execute_result"
    }
   ],
   "source": [
    "M[15]"
   ]
  },
  {
   "cell_type": "code",
   "execution_count": 150,
   "metadata": {},
   "outputs": [
    {
     "data": {
      "text/plain": [
       "(1.20242017759643e-07, 6.086624888137955e-08, 4.979605886920939e-08)"
      ]
     },
     "execution_count": 150,
     "metadata": {},
     "output_type": "execute_result"
    }
   ],
   "source": [
    "sd370[15],sd370hff[15],sdIIIc[15]"
   ]
  },
  {
   "cell_type": "code",
   "execution_count": 141,
   "metadata": {},
   "outputs": [
    {
     "name": "stdout",
     "output_type": "stream",
     "text": [
      "39\r"
     ]
    },
    {
     "name": "stderr",
     "output_type": "stream",
     "text": [
      "No handles with labels found to put in legend.\n"
     ]
    },
    {
     "data": {
      "image/png": "[encoded data removed]",
      "text/plain": [
       "<Figure size 720x576 with 1 Axes>"
      ]
     },
     "metadata": {
      "needs_background": "light"
     },
     "output_type": "display_data"
    }
   ],
   "source": [
    "import glob\n",
    "import sys\n",
    "import numpy as np\n",
    "import operator\n",
    "from scipy import optimize\n",
    "from scipy import stats\n",
    "from scipy.ndimage import gaussian_filter\n",
    "import math\n",
    "from scipy.interpolate import RegularGridInterpolator\n",
    "\n",
    "import matplotlib\n",
    "import matplotlib.pyplot as plt\n",
    "from matplotlib import rc\n",
    "\n",
    "# matplotlib.rcParams.update({'font.size': 22})\n",
    "muavg = [0 for n in range(103041)]\n",
    "muavgsq= [0 for n in range(103041)]\n",
    "\n",
    "counts370=np.zeros([40,999])\n",
    "bins370=np.zeros([40,1000])\n",
    "area370=np.zeros(40)\n",
    "\n",
    "# print(mu)\n",
    "run_num=40\n",
    "n_bins = np.linspace(1, 100, num=1000)\n",
    "j=0\n",
    "fig, ax = plt.subplots(figsize=(10, 8))\n",
    "for filename in glob.glob('/Users/agnivaghosh/Downloads/Lensing/magnifications/data/A370/buffalo/range_z9/mag*.dat'):\n",
    "    \n",
    "    print(j,end='\\r')\n",
    "    mag= np.genfromtxt(filename, dtype=(\n",
    "        {'names': ['iz','z','ix', 'iy','im' ,'xs','ys','mag','vol','magpervol'], \n",
    "         'formats': ['f8','f8','f8','f8','f8', 'f8', 'f8','f8', 'f8', 'f8']}))\n",
    "#     nparray=mag['mag']\n",
    "#     nparray[nparray == 0] = np.nan\n",
    "    muavg=0\n",
    "    mag['mag'][0]=1\n",
    "    mag[mag['xs'] > 40] = np.nan\n",
    "    mag[mag['xs'] < -60] = np.nan\n",
    "    mag[mag['ys'] > 60] = np.nan\n",
    "    mag[mag['ys'] < -40] = np.nan\n",
    "    nparray=mag['mag']\n",
    "#     if nparray.any()>0: \n",
    "    muavg=muavg+nparray\n",
    "#     muavgsq=muavgsq+nparray*nparray\n",
    "    nparray[nparray == 0] = np.nan\n",
    "#     m=2.5*np.log10(nparray)\n",
    "#     print(np.sum(muavg))\n",
    "    area370[j]=np.sum(muavg)*0.5*0.5/60/60\n",
    "#     print(area370[j])\n",
    "    \n",
    "    \n",
    "#     print(len(m))\n",
    "    \n",
    "    \n",
    "    \n",
    "    \n",
    "    counts370[j], bins370[j], what=ax.hist(nparray, n_bins, density=True, histtype='step',cumulative=False,linewidth=2,alpha=0.1)\n",
    "    j=j+1\n",
    "\n",
    "# muavg[muavg == 0] = np.nan\n",
    "# muavgsq[muavgsq == 0] = np.nan\n",
    "# muavg=abs(2.5*np.log10(muavg/run_num))\n",
    "# muavgsq=2.5*np.log10(muavgsq/run_num)\n",
    "\n",
    "# for i in range(len(muavg)):\n",
    "#         if muavg[i]==0 :\n",
    "#             print(i)\n",
    "\n",
    "# ax.hist(muavgsum, n_bins, density=True, histtype='step',cumulative=-1,linewidth=2,label='Plummers Averaged')\n",
    "# ax.hist(muavg, n_bins, density=True, histtype='step',cumulative=-1,linewidth=2,label='Grale Runs Averaged')\n",
    "# ax.plot([4,5.25],[0.09,0.009],color=\"LightGray\")\n",
    "# print(muavgsq)\n",
    "# print(min(muavg))\n",
    "# plt.grid(True)\n",
    "plt.axis()\n",
    "ax.set_title('z=3 single plane')\n",
    "ax.set_xlabel('Magnitude')\n",
    "# plt.xscale('log')\n",
    "# ax2.set_title('IrtyshII')\n",
    "# ax2.set_xlabel('Fractional Mass Dispersion')\n",
    "ax.legend(loc='upper right')\n",
    "plt.show()\n",
    "# fig.savefig('z9_ind_runs.png', dpi=300)"
   ]
  },
  {
   "cell_type": "code",
   "execution_count": 140,
   "metadata": {},
   "outputs": [
    {
     "name": "stdout",
     "output_type": "stream",
     "text": [
      "39\r"
     ]
    },
    {
     "name": "stderr",
     "output_type": "stream",
     "text": [
      "No handles with labels found to put in legend.\n"
     ]
    },
    {
     "data": {
      "image/png": "[encoded data removed]",
      "text/plain": [
       "<Figure size 720x576 with 1 Axes>"
      ]
     },
     "metadata": {
      "needs_background": "light"
     },
     "output_type": "display_data"
    }
   ],
   "source": [
    "import glob\n",
    "import sys\n",
    "import numpy as np\n",
    "import operator\n",
    "from scipy import optimize\n",
    "from scipy import stats\n",
    "from scipy.ndimage import gaussian_filter\n",
    "import math\n",
    "from scipy.interpolate import RegularGridInterpolator\n",
    "\n",
    "import matplotlib\n",
    "import matplotlib.pyplot as plt\n",
    "from matplotlib import rc\n",
    "\n",
    "# matplotlib.rcParams.update({'font.size': 22})\n",
    "muavg = [0 for n in range(103041)]\n",
    "muavgsq= [0 for n in range(103041)]\n",
    "\n",
    "counts370hff=np.zeros([40,999])\n",
    "bins370hff=np.zeros([40,1000])\n",
    "\n",
    "\n",
    "# print(mu)\n",
    "run_num=40\n",
    "n_bins = np.linspace(1, 100, num=1000)\n",
    "j=0\n",
    "fig, ax = plt.subplots(figsize=(10, 8))\n",
    "for filename in glob.glob('/Users/agnivaghosh/Downloads/Lensing/magnifications/data/A370/hff/range_z9/mag*.dat'):\n",
    "    \n",
    "    print(j,end='\\r')\n",
    "    mag= np.genfromtxt(filename, dtype=(\n",
    "        {'names': ['iz','z','ix', 'iy','im' ,'xs','ys','mag','vol','magpervol'], \n",
    "         'formats': ['f8','f8','f8','f8','f8', 'f8', 'f8','f8', 'f8', 'f8']}))\n",
    "#     nparray=mag['mag']\n",
    "#     nparray[nparray == 0] = np.nan\n",
    "    \n",
    "    mag['mag'][0]=1\n",
    "    mag[mag['xs'] > 40] = np.nan\n",
    "    mag[mag['xs'] < -60] = np.nan\n",
    "    mag[mag['ys'] > 60] = np.nan\n",
    "    mag[mag['ys'] < -40] = np.nan\n",
    "    nparray=mag['mag']\n",
    "    muavg=muavg+nparray\n",
    "    muavgsq=muavgsq+nparray*nparray\n",
    "    nparray[nparray == 0] = np.nan\n",
    "    m=2.5*np.log10(nparray)\n",
    "    \n",
    "    \n",
    "    \n",
    "#     print(len(m))\n",
    "    \n",
    "    \n",
    "    \n",
    "    \n",
    "    counts370hff[j], bins370hff[j], what=ax.hist(nparray, n_bins, density=True, histtype='step',cumulative=False,linewidth=2,alpha=0.1)\n",
    "    j=j+1\n",
    "\n",
    "# muavg[muavg == 0] = np.nan\n",
    "# muavgsq[muavgsq == 0] = np.nan\n",
    "# muavg=abs(2.5*np.log10(muavg/run_num))\n",
    "# muavgsq=2.5*np.log10(muavgsq/run_num)\n",
    "\n",
    "# for i in range(len(muavg)):\n",
    "#         if muavg[i]==0 :\n",
    "#             print(i)\n",
    "\n",
    "# ax.hist(muavgsum, n_bins, density=True, histtype='step',cumulative=-1,linewidth=2,label='Plummers Averaged')\n",
    "# ax.hist(muavg, n_bins, density=True, histtype='step',cumulative=-1,linewidth=2,label='Grale Runs Averaged')\n",
    "# ax.plot([4,5.25],[0.09,0.009],color=\"LightGray\")\n",
    "# print(muavgsq)\n",
    "# print(min(muavg))\n",
    "# plt.grid(True)\n",
    "plt.axis()\n",
    "ax.set_title('z=3 single plane')\n",
    "ax.set_xlabel('Magnitude')\n",
    "# plt.xscale('log')\n",
    "# ax2.set_title('IrtyshII')\n",
    "# ax2.set_xlabel('Fractional Mass Dispersion')\n",
    "ax.legend(loc='upper right')\n",
    "plt.show()\n",
    "# fig.savefig('z9_ind_runs.png', dpi=300)"
   ]
  },
  {
   "cell_type": "code",
   "execution_count": 108,
   "metadata": {},
   "outputs": [
    {
     "data": {
      "text/plain": [
       "5.106736587597505"
      ]
     },
     "execution_count": 108,
     "metadata": {},
     "output_type": "execute_result"
    }
   ],
   "source": [
    "np.sum(muavg)/103041"
   ]
  },
  {
   "cell_type": "code",
   "execution_count": 109,
   "metadata": {},
   "outputs": [
    {
     "name": "stdout",
     "output_type": "stream",
     "text": [
      "nan\n"
     ]
    }
   ],
   "source": [
    "print(np.mean(area370))"
   ]
  },
  {
   "cell_type": "code",
   "execution_count": null,
   "metadata": {},
   "outputs": [],
   "source": []
  }
 ],
 "metadata": {
  "kernelspec": {
   "display_name": "Python 3",
   "language": "python",
   "name": "python3"
  },
  "language_info": {
   "codemirror_mode": {
    "name": "ipython",
    "version": 3
   },
   "file_extension": ".py",
   "mimetype": "text/x-python",
   "name": "python",
   "nbconvert_exporter": "python",
   "pygments_lexer": "ipython3",
   "version": "3.8.5"
  }
 },
 "nbformat": 4,
 "nbformat_minor": 4
}
