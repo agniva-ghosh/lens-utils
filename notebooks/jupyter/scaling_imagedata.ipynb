{
 "cells": [
  {
   "cell_type": "code",
   "execution_count": 7,
   "metadata": {},
   "outputs": [],
   "source": [
    "import sys\n",
    "import numpy as np\n",
    "import operator\n",
    "from scipy import optimize\n",
    "import matplotlib.pyplot as plt\n",
    "import os\n",
    "\n",
    "path=\"/Users/agnivaghosh/Downloads/Lensing/graleruns/Irtysh/data_Irtysh/IrtyshII/runs/IIc\"\n",
    "\n",
    "os.chdir(path)\n",
    "# image = open('images.dat', 'w') \n",
    "plummers = open('plummers.dat', 'w') \n",
    "# source = open('sources.dat', 'w')\n",
    "\n",
    "\n",
    "# ims = np.genfromtxt('images_combined.out', dtype=(\n",
    "#     {'names': ['imstag','x','y','z' ], 'formats': ['f8','f8', 'f8', 'f8']}))\n",
    "\n",
    "plum = np.genfromtxt('invX_plummers.dat', dtype=(\n",
    "    {'names': ['x', 'y', 'width', 'mass'], 'formats': ['f8', 'f8', 'f8', 'f8']}))\n",
    "\n",
    "# src = np.genfromtxt('original_sources.dat', dtype=(\n",
    "#     {'names': ['tag','x','y','scale','z','mult' ], 'formats': ['f8','f8', 'f8', 'f8', 'f8', 'f8']}))\n",
    "\n",
    "\n",
    "# for i in range(len(ims['x'])):\n",
    "#     print('%6.1lf %10.6lf %10.6lf %6.4lf'%(ims['imstag'][i],6*ims['x'][i],6*ims['y'][i],ims['z'][i]),file=image)\n",
    "    \n",
    "# for i in range(len(src['x'])):\n",
    "#     print('%3d %10.6lf %10.6lf %6.4lf %2d'%(src['tag'][i],6*src['x'][i],6*src['y'][i],src['z'][i],src['mult'][i]),file=source)\n",
    "    \n",
    "    \n",
    "for j in range(len(plum['mass'])):\n",
    "    print('%20.15lf %20.15lf %20.15lf %20.7lf'%(6*plum['x'][j],6*plum['y'][j],6*plum['width'][j],plum['mass'][j]),file=plummers)\n"
   ]
  },
  {
   "cell_type": "code",
   "execution_count": 8,
   "metadata": {},
   "outputs": [
    {
     "data": {
      "text/plain": [
       "92311"
      ]
     },
     "execution_count": 8,
     "metadata": {},
     "output_type": "execute_result"
    }
   ],
   "source": [
    "len(plum['x'])"
   ]
  },
  {
   "cell_type": "code",
   "execution_count": null,
   "metadata": {},
   "outputs": [],
   "source": []
  }
 ],
 "metadata": {
  "kernelspec": {
   "display_name": "Python 3",
   "language": "python",
   "name": "python3"
  },
  "language_info": {
   "codemirror_mode": {
    "name": "ipython",
    "version": 3
   },
   "file_extension": ".py",
   "mimetype": "text/x-python",
   "name": "python",
   "nbconvert_exporter": "python",
   "pygments_lexer": "ipython3",
   "version": "3.8.5"
  }
 },
 "nbformat": 4,
 "nbformat_minor": 4
}
