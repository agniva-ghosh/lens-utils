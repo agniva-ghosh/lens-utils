{
 "cells": [
  {
   "cell_type": "code",
   "execution_count": 2,
   "id": "c56d7560-7ac9-49cf-8b3f-8c6dea6adbb0",
   "metadata": {},
   "outputs": [],
   "source": [
    "import numpy as np\n",
    "import pandas as pd\n",
    "from scipy import optimize\n",
    "\n",
    "from tools.lens import *\n",
    "from tools.angdist import *\n",
    "from tools.numbasolver import *\n",
    "import os"
   ]
  },
  {
   "cell_type": "code",
   "execution_count": 3,
   "id": "ff66c1c8-e88e-4f9e-986c-e27428387555",
   "metadata": {},
   "outputs": [
    {
     "ename": "NameError",
     "evalue": "name 'params' is not defined",
     "output_type": "error",
     "traceback": [
      "\u001b[0;31m---------------------------------------------------------------------------\u001b[0m",
      "\u001b[0;31mNameError\u001b[0m                                 Traceback (most recent call last)",
      "\u001b[0;32m/var/folders/0q/bnz29zy50tng2_4g8m_6yt7m0000gn/T/ipykernel_8536/908932763.py\u001b[0m in \u001b[0;36m<module>\u001b[0;34m\u001b[0m\n\u001b[0;32m----> 1\u001b[0;31m \u001b[0mbA\u001b[0m\u001b[0;34m,\u001b[0m \u001b[0malpA\u001b[0m\u001b[0;34m,\u001b[0m \u001b[0mq2A\u001b[0m\u001b[0;34m,\u001b[0m \u001b[0ms2A\u001b[0m\u001b[0;34m,\u001b[0m \u001b[0mK2A\u001b[0m\u001b[0;34m,\u001b[0m \u001b[0mbB\u001b[0m\u001b[0;34m,\u001b[0m \u001b[0malpB\u001b[0m\u001b[0;34m,\u001b[0m \u001b[0mq2B\u001b[0m\u001b[0;34m,\u001b[0m \u001b[0ms2B\u001b[0m\u001b[0;34m,\u001b[0m \u001b[0mK2B\u001b[0m\u001b[0;34m,\u001b[0m \u001b[0mxoff\u001b[0m\u001b[0;34m,\u001b[0m \u001b[0myoff\u001b[0m\u001b[0;34m,\u001b[0m \u001b[0mgamext\u001b[0m\u001b[0;34m,\u001b[0m \u001b[0mgamang\u001b[0m \u001b[0;34m=\u001b[0m \u001b[0mparams\u001b[0m\u001b[0;34m\u001b[0m\u001b[0;34m\u001b[0m\u001b[0m\n\u001b[0m",
      "\u001b[0;31mNameError\u001b[0m: name 'params' is not defined"
     ]
    }
   ],
   "source": [
    "pi=3.14159265359\n",
    "conv=180.0/pi\n",
    "\n",
    "idum=-5928+34+5\n",
    "\n",
    "mp=ndim+1\n",
    "anph=dfloat(nph)\n",
    "\n",
    "# conversion between pixel scale and arcseconds\n",
    "rat=anph/1.75   #this many pixels per arcsec\n",
    "\n",
    "tdd=46.5397   #from ../th/scritical0.f\n",
    "\n",
    "ftol=0.003\n",
    "\n",
    "# C     properties of the observed quad to be fit with a model\n",
    "READ(87,*)xgal,ygal\n",
    "DO 93 i=1,4                    #observed multiple images \n",
    "READ(87,*)xoim(i),yoim(i)\n",
    "xoim(i)=(xoim(i)-xgal)*rat+anph #make gal1 coordinate center\n",
    "yoim(i)=(yoim(i)-ygal)*rat+anph\n",
    "\n",
    "# uncertainty in source position (pixels)\n",
    "xyerr=0.003d0*rat\n",
    "\n",
    "C - - - - -- - - - - - - - - - - \n",
    "C   Positional offset of lens galaxy B, with respect to A\n",
    "xoff=2.0*(2.0*ran3(idum)-1.0)\n",
    "yoff=2.0*(2.0*ran3(idum)-1.0)\n",
    "C   Parameters of lens galaxy A\n",
    "bA=90.0 + 40.0*(2.0*ran3(idum)-1.0)\n",
    "alpA=1.0 + 0.2*(2.0*ran3(idum)-1.0)\n",
    "# !bigQ0=1.0 - 0.5*(2.0*ran3(idum)-1.0)   # FILES 11\n",
    "bigQ0=1.0 - 0.15*(2.0*ran3(idum)-1.0)   # FILES 21\n",
    "bigQ02=bigQ0*bigQ0\n",
    "th0=0.0 + 89.9*(2.0*ran3(idum)-1.0)  #in degrees\n",
    "CALL findq2K2 (bigQ02,th0,q2A,K2A)\n",
    "sA=15.0 + 24.0*(2.0*ran3(idum)-1.0)\n",
    "s2A=sA*sA\n",
    "C   Parameters of lens galaxy B\n",
    "bB=20.0 + 15.0*(2.0*ran3(idum)-1.0)\n",
    "alpB=1.0 + 0.3*(2.0*ran3(idum)-1.0)\n",
    "!bigQ0=1.0 - 0.5*(2.0*ran3(idum)-1.0)    # FILES 11\n",
    "bigQ0=1.0 - 0.15*(2.0*ran3(idum)-1.0)    # FILES 21\n",
    "bigQ02=bigQ0*bigQ0\n",
    "th0=0.0 + 89.9*(2.0*ran3(idum)-1.0)  #in degrees\n",
    "CALL findq2K2 (bigQ02,th0,q2B,K2B)\n",
    "sB=40 + 49.0*(2.0*ran3(idum)-1.0)\n",
    "s2B=sB*sB\n",
    "\n",
    "gamext=0.2*(ran3(idum))\n",
    "gamang=pi*ran3(idum)\n",
    "\n",
    "params = bA, alpA, q2A, s2A, K2A, bB, alpB, q2B, s2B, K2B, xoff, yoff, gamext, gamang"
   ]
  },
  {
   "cell_type": "code",
   "execution_count": null,
   "id": "995a796b-653e-47f1-876c-573230cb7d88",
   "metadata": {},
   "outputs": [],
   "source": [
    "def func(params):\n",
    "    \n",
    "    "
   ]
  },
  {
   "cell_type": "code",
   "execution_count": null,
   "id": "6f89fd15-fab6-4fa1-a665-a2769499523b",
   "metadata": {},
   "outputs": [],
   "source": [
    "optimize.minimize(fun, x0, args=(), method='Nelder-Mead', bounds=None, tol=None, callback=None, \n",
    "                  options={'func': None, 'maxiter': None, 'maxfev': None, 'disp': False,\n",
    "                           'return_all': False, 'initial_simplex': None, 'xatol': 0.0001, 'fatol': 0.0001, 'adaptive': False})"
   ]
  }
 ],
 "metadata": {
  "kernelspec": {
   "display_name": "Python 3 (ipykernel)",
   "language": "python",
   "name": "python3"
  },
  "language_info": {
   "codemirror_mode": {
    "name": "ipython",
    "version": 3
   },
   "file_extension": ".py",
   "mimetype": "text/x-python",
   "name": "python",
   "nbconvert_exporter": "python",
   "pygments_lexer": "ipython3",
   "version": "3.8.13"
  }
 },
 "nbformat": 4,
 "nbformat_minor": 5
}
